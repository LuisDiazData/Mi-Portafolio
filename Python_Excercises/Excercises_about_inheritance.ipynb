{
 "cells": [
  {
   "cell_type": "markdown",
   "metadata": {},
   "source": [
    "### Assignment 1: Single Inheritance Basic\n",
    "\n",
    "Create a base class named `Animal` with attributes `name` and `species`. Create a derived class named `Dog` that inherits from `Animal` and adds an attribute `breed`. Create an object of the `Dog` class and print its attributes."
   ]
  },
  {
   "cell_type": "code",
   "execution_count": 6,
   "metadata": {},
   "outputs": [
    {
     "name": "stdout",
     "output_type": "stream",
     "text": [
      "Tiny\n"
     ]
    }
   ],
   "source": [
    "class Animal:\n",
    "    def __init__(self, name, species):\n",
    "        self.name = name\n",
    "        self.species= species\n",
    "class Dog(Animal):\n",
    "    def __init__(self, name, species, breed):\n",
    "        super().__init__(name, species)\n",
    "        self.breed = breed\n",
    "\n",
    "dog1 = Dog(\"Tiny\", \"Perro\", \"Chihuahua\" )\n",
    "print(dog1.name)"
   ]
  },
  {
   "cell_type": "markdown",
   "metadata": {},
   "source": [
    "\n",
    "### Assignment 2: Method Overriding in Single Inheritance\n",
    "\n",
    "In the `Dog` class, override the `__str__` method to return a string representation of the object. Create an object of the class and print it."
   ]
  },
  {
   "cell_type": "code",
   "execution_count": 8,
   "metadata": {},
   "outputs": [
    {
     "name": "stdout",
     "output_type": "stream",
     "text": [
      "El animal es un Perro y se llama Tiny y su raza es un Chihuahua\n"
     ]
    }
   ],
   "source": [
    "class Animal:\n",
    "    def __init__(self, name, species):\n",
    "        self.name = name\n",
    "        self.species= species\n",
    "class Dog(Animal):\n",
    "    def __init__(self, name, species, breed):\n",
    "        super().__init__(name, species)\n",
    "        self.breed = breed\n",
    "    def __str__(self):\n",
    "        return f'El animal es un {self.species} y se llama {self.name} y su raza es un {self.breed}'\n",
    "    \n",
    "dog1 = Dog(\"Tiny\", \"Perro\", \"Chihuahua\" )\n",
    "print(dog1)"
   ]
  },
  {
   "cell_type": "markdown",
   "metadata": {},
   "source": [
    "### Assignment 3: Single Inheritance with Additional Methods\n",
    "\n",
    "In the `Dog` class, add a method named `bark` that prints a barking sound. Create an object of the class and call the method."
   ]
  },
  {
   "cell_type": "code",
   "execution_count": 11,
   "metadata": {},
   "outputs": [
    {
     "name": "stdout",
     "output_type": "stream",
     "text": [
      "WOOF\n"
     ]
    }
   ],
   "source": [
    "class Animal:\n",
    "    def __init__(self, name, species):\n",
    "        self.name = name\n",
    "        self.species= species\n",
    "    def sound (self):\n",
    "        pass\n",
    "class Dog(Animal):\n",
    "    def __init__(self, name, species, breed):\n",
    "        super().__init__(name, species)\n",
    "        self.breed = breed\n",
    "    def __str__(self):\n",
    "        return f'El animal es un {self.species} y se llama {self.name} y su raza es un {self.breed}'\n",
    "    def sound(self):\n",
    "        return \"WOOF\"\n",
    "\n",
    "dog1 = Dog('Tiny', \"Perro\", \"Cihuahua\")\n",
    "\n",
    "def hacer_sonido(animal):\n",
    "    print(animal.sound())\n",
    "\n",
    "hacer_sonido(dog1)"
   ]
  },
  {
   "cell_type": "markdown",
   "metadata": {},
   "source": [
    "### Assignment 4: Multiple Inheritance Basic\n",
    "\n",
    "Create a base class named `Walker` with a method `walk` that prints a walking message. Create another base class named `Runner` with a method `run` that prints a running message. Create a derived class named `Athlete` that inherits from both `Walker` and `Runner`. Create an object of the `Athlete` class and call both methods."
   ]
  },
  {
   "cell_type": "code",
   "execution_count": 13,
   "metadata": {},
   "outputs": [
    {
     "name": "stdout",
     "output_type": "stream",
     "text": [
      "Corriendo\n",
      "Caminando\n"
     ]
    }
   ],
   "source": [
    "class Walker:\n",
    "    def walk(self):\n",
    "        print(\"Caminando\")\n",
    "class Runner:\n",
    "    def run(self):\n",
    "        print(\"Corriendo\")\n",
    "\n",
    "class Athlete(Walker, Runner):\n",
    "    def maraton(self):\n",
    "        self.run()\n",
    "        self.walk()\n",
    "\n",
    "athlete1 = Athlete()\n",
    "athlete1.maraton()"
   ]
  },
  {
   "cell_type": "markdown",
   "metadata": {},
   "source": [
    "\n",
    "### Assignment 5: Method Resolution Order (MRO) in Multiple Inheritance\n",
    "\n",
    "In the `Athlete` class, override the `walk` method to print a different message. Create an object of the class and call the `walk` method. Use the `super()` function to call the `walk` method of the `Walker` class."
   ]
  },
  {
   "cell_type": "code",
   "execution_count": 15,
   "metadata": {},
   "outputs": [
    {
     "name": "stdout",
     "output_type": "stream",
     "text": [
      "Athlete is warming up before walking.\n",
      "I am walking!\n",
      "I am running!\n"
     ]
    }
   ],
   "source": [
    "class Walker:\n",
    "    def walk(self):\n",
    "        print(\"I am walking!\")\n",
    "\n",
    "class Runner:\n",
    "    def run(self):\n",
    "        print(\"I am running!\")\n",
    "\n",
    "class Athlete(Walker, Runner):\n",
    "    def walk(self):\n",
    "        print(\"Athlete is warming up before walking.\")\n",
    "        super().walk()  \n",
    "\n",
    "athlete = Athlete()\n",
    "\n",
    "\n",
    "athlete.walk()  \n",
    "athlete.run()   \n",
    "\n",
    "    "
   ]
  },
  {
   "cell_type": "markdown",
   "metadata": {},
   "source": [
    "\n",
    "\n",
    "### Assignment 6: Multiple Inheritance with Additional Attributes\n",
    "\n",
    "In the `Athlete` class, add an attribute `training_hours` and a method `train` that prints the training hours. Create an object of the class and call the method."
   ]
  },
  {
   "cell_type": "code",
   "execution_count": 18,
   "metadata": {},
   "outputs": [
    {
     "name": "stdout",
     "output_type": "stream",
     "text": [
      "Athlete is warming up before walking.\n",
      "I am walking!\n",
      "I am running!\n",
      "Llevo 10 horas entrenando\n"
     ]
    }
   ],
   "source": [
    "class Walker:\n",
    "    def walk(self):\n",
    "        print(\"I am walking!\")\n",
    "\n",
    "class Runner:\n",
    "    def run(self):\n",
    "        print(\"I am running!\")\n",
    "\n",
    "class Athlete(Walker, Runner):\n",
    "    def __init__(self, training_hours):\n",
    "        self.training_hours = training_hours\n",
    "    def walk(self):\n",
    "        print(\"Athlete is warming up before walking.\")\n",
    "        super().walk()  \n",
    "    def train(self):\n",
    "        print(f'Llevo {self.training_hours} horas entrenando')\n",
    "\n",
    "athlete = Athlete(10)\n",
    "\n",
    "\n",
    "athlete.walk()  \n",
    "athlete.run()   \n",
    "athlete.train()\n",
    "    "
   ]
  },
  {
   "cell_type": "markdown",
   "metadata": {},
   "source": [
    "\n",
    "\n",
    "\n",
    "### Assignment 7: Diamond Problem in Multiple Inheritance\n",
    "\n",
    "Create a class named `A` with a method `show` that prints a message. Create two derived classes `B` and `C` that inherit from `A` and override the `show` method. Create a class `D` that inherits from both `B` and `C`. Create an object of the `D` class and call the `show` method. Observe the method resolution order."
   ]
  },
  {
   "cell_type": "code",
   "execution_count": 26,
   "metadata": {},
   "outputs": [
    {
     "name": "stdout",
     "output_type": "stream",
     "text": [
      "Bien y tu?\n",
      "Bien\n",
      "Hola como estas?\n",
      "[<class '__main__.D'>, <class '__main__.B'>, <class '__main__.C'>, <class '__main__.A'>, <class 'object'>]\n"
     ]
    }
   ],
   "source": [
    "class A:\n",
    "    def show(self):\n",
    "        print(\"Hola como estas?\")\n",
    "class B(A):\n",
    "    def show(self):\n",
    "        print(\"Bien y tu?\")\n",
    "        super().show()\n",
    "class C(A):\n",
    "    def show(self):\n",
    "        print(\"Bien\")\n",
    "        super().show()\n",
    "        \n",
    "class D(B,C):\n",
    "    pass\n",
    "\n",
    "objectd = D()\n",
    "\n",
    "objectd.show()\n",
    "print(D.mro())"
   ]
  },
  {
   "cell_type": "markdown",
   "metadata": {},
   "source": [
    "### Assignment 8: Using `super()` in Single Inheritance\n",
    "\n",
    "Create a base class named `Shape` with an attribute `color`. Create a derived class named `Circle` that inherits from `Shape` and adds an attribute `radius`. Use the `super()` function to initialize the attributes. Create an object of the `Circle` class and print its attributes."
   ]
  },
  {
   "cell_type": "code",
   "execution_count": 32,
   "metadata": {},
   "outputs": [
    {
     "name": "stdout",
     "output_type": "stream",
     "text": [
      "Hola soy un Circulo de color red y mi radio es de 10.939\n"
     ]
    }
   ],
   "source": [
    "class Shape():\n",
    "    def __init__(self, color):\n",
    "        self.color = color\n",
    "\n",
    "class Circle(Shape):\n",
    "    def __init__(self, color, radius):\n",
    "        super().__init__(color)\n",
    "        self.radius = radius\n",
    "    def __str__(self):\n",
    "        return f'Hola soy un Circulo de color {self.color} y mi radio es de {self.radius}'\n",
    "\n",
    "circle1 = Circle(\"red\", 10.939)\n",
    "\n",
    "print (circle1)\n",
    "        "
   ]
  },
  {
   "cell_type": "markdown",
   "metadata": {},
   "source": [
    "\n",
    "### Assignment 9: Using `super()` in Multiple Inheritance\n",
    "\n",
    "Create a class named `Person` with an attribute `name`. Create a class named `Employee` with an attribute `employee_id`. Create a derived class `Manager` that inherits from both `Person` and `Employee`. Use the `super()` function to initialize the attributes. Create an object of the `Manager` class and print its attributes."
   ]
  },
  {
   "cell_type": "code",
   "execution_count": 34,
   "metadata": {},
   "outputs": [
    {
     "name": "stdout",
     "output_type": "stream",
     "text": [
      "Hola mi nombre es Luis y mi numero de empleado es 203949 y trabajo en el area de Inteligencia artificial\n"
     ]
    }
   ],
   "source": [
    "class Persona():\n",
    "    def __init__(self, name):\n",
    "        self.name = name\n",
    "class Employe(Persona):\n",
    "    def __init__(self, name, employe_id):\n",
    "        super().__init__(name)\n",
    "        self.employe_id =employe_id\n",
    "class Manager(Employe):\n",
    "    def __init__(self, name, employe_id, area):\n",
    "        super().__init__(name, employe_id)\n",
    "        self.area = area\n",
    "\n",
    "    def __str__ (self):\n",
    "        return f'Hola mi nombre es {self.name} y mi numero de empleado es {self.employe_id} y trabajo en el area de {self.area}'\n",
    "    \n",
    "\n",
    "manager1 = Manager(\"Luis\", 203949, \"Inteligencia artificial\")\n",
    "print(manager1)\n",
    "\n",
    "\n",
    "\n"
   ]
  },
  {
   "cell_type": "markdown",
   "metadata": {},
   "source": [
    "### Assignment 10: Method Overriding and `super()`\n",
    "\n",
    "Create a class named `Vehicle` with a method `start` that prints a starting message. Create a derived class `Car` that overrides the `start` method to print a different message. Use the `super()` function to call the `start` method of the `Vehicle` class. Create an object of the `Car` class and call the `start` method."
   ]
  },
  {
   "cell_type": "code",
   "execution_count": 35,
   "metadata": {},
   "outputs": [
    {
     "name": "stdout",
     "output_type": "stream",
     "text": [
      "El motor esta arrancando\n",
      "El carro esta encendido\n"
     ]
    }
   ],
   "source": [
    "class Vehicle():\n",
    "    def start(self):\n",
    "        print(\"El motor esta arrancando\")\n",
    "\n",
    "class Car(Vehicle):\n",
    "    def start(self):\n",
    "        super().start()\n",
    "        print(\"El carro esta encendido\")\n",
    "\n",
    "carr1 = Car()\n",
    "\n",
    "carr1.start()"
   ]
  },
  {
   "cell_type": "markdown",
   "metadata": {},
   "source": [
    "### Assignment 11: Multiple Inheritance with Different Methods\n",
    "\n",
    "Create a class named `Flyer` with a method `fly` that prints a flying message. Create a class named `Swimmer` with a method `swim` that prints a swimming message. Create a derived class `Superhero` that inherits from both `Flyer` and `Swimmer`. Create an object of the `Superhero` class and call both methods."
   ]
  },
  {
   "cell_type": "code",
   "execution_count": 37,
   "metadata": {},
   "outputs": [
    {
     "name": "stdout",
     "output_type": "stream",
     "text": [
      "Estoy nadando\n",
      "Estoy volando\n"
     ]
    }
   ],
   "source": [
    "class Flyer: \n",
    "    def fly(self):\n",
    "        print(\"Estoy volando\")\n",
    "\n",
    "class Swimmer:\n",
    "    def swim(self):\n",
    "        print(\"Estoy nadando\")\n",
    "\n",
    "class Superhero(Flyer, Swimmer):\n",
    "    def call_action(self):\n",
    "        super().swim()\n",
    "        super().fly()\n",
    "\n",
    "\n",
    "super1 = Superhero()\n",
    "\n",
    "super1.call_action()\n",
    "\n"
   ]
  },
  {
   "cell_type": "markdown",
   "metadata": {},
   "source": [
    "\n",
    "### Assignment 12: Complex Multiple Inheritance\n",
    "\n",
    "Create a class named `Base1` with an attribute `a`. Create a class named `Base2` with an attribute `b`. Create a class named `Derived` that inherits from both `Base1` and `Base2` and adds an attribute `c`. Initialize all attributes using the `super()` function. Create an object of the `Derived` class and print its attributes.\n"
   ]
  },
  {
   "cell_type": "code",
   "execution_count": 45,
   "metadata": {},
   "outputs": [
    {
     "data": {
      "text/plain": [
       "'bye'"
      ]
     },
     "execution_count": 45,
     "metadata": {},
     "output_type": "execute_result"
    }
   ],
   "source": [
    "class Base1:\n",
    "    def __init__(self, a):\n",
    "        self.a=a\n",
    "class Base2:\n",
    "    def __init__(self, b):\n",
    "        self.b=b\n",
    "\n",
    "class Derived(Base1, Base2):\n",
    "    def __init__(self, a, b, c):\n",
    "        super().__init__(a)\n",
    "        super().__init__(b)\n",
    "        self.c=c \n",
    "\n",
    "derived1 = Derived(\"Hola\", \"adios\", \"bye\")\n",
    "\n",
    "derived1.c\n",
    "\n"
   ]
  },
  {
   "cell_type": "markdown",
   "metadata": {},
   "source": [
    "### Assignment 13: Checking Instance Types with Inheritance\n",
    "\n",
    "Create a base class named `Animal` and a derived class named `Cat`. Create objects of both classes and use the `isinstance` function to check the instance types."
   ]
  },
  {
   "cell_type": "code",
   "execution_count": 46,
   "metadata": {},
   "outputs": [
    {
     "name": "stdout",
     "output_type": "stream",
     "text": [
      "True\n",
      "True\n",
      "True\n",
      "False\n"
     ]
    }
   ],
   "source": [
    "class Animal:\n",
    "    pass\n",
    "\n",
    "class Cat(Animal):\n",
    "    pass\n",
    "\n",
    "\n",
    "animal = Animal()\n",
    "cat = Cat()\n",
    "\n",
    "print(isinstance(animal, Animal)) \n",
    "print(isinstance(cat, Animal)) \n",
    "print(isinstance(cat, Cat))  \n",
    "print(isinstance(animal, Cat))  \n"
   ]
  },
  {
   "cell_type": "markdown",
   "metadata": {},
   "source": [
    "### Assignment 14: Polymorphism with Inheritance\n",
    "\n",
    "Create a base class named `Bird` with a method `speak`. Create two derived classes `Parrot` and `Penguin` that override the `speak` method. Create a list of `Bird` objects and call the `speak` method on each object to demonstrate polymorphism."
   ]
  },
  {
   "cell_type": "code",
   "execution_count": 47,
   "metadata": {},
   "outputs": [
    {
     "name": "stdout",
     "output_type": "stream",
     "text": [
      "Parrot says: Squak!\n",
      "Penguin says honk\n"
     ]
    }
   ],
   "source": [
    "class Bird:\n",
    "    def speak(self):\n",
    "        print('Bird is making a sound')\n",
    "\n",
    "class Parrot(Bird):\n",
    "    def speak(self):\n",
    "        print('Parrot says: Squak!')\n",
    "\n",
    "class Penguin(Bird):\n",
    "    def speak(self):\n",
    "        print(\"Penguin says honk\")\n",
    "\n",
    "\n",
    "birds = [Parrot(), Penguin()]\n",
    "\n",
    "for bird in birds:\n",
    "    bird.speak()"
   ]
  }
 ],
 "metadata": {
  "kernelspec": {
   "display_name": "bootcamp",
   "language": "python",
   "name": "python3"
  },
  "language_info": {
   "codemirror_mode": {
    "name": "ipython",
    "version": 3
   },
   "file_extension": ".py",
   "mimetype": "text/x-python",
   "name": "python",
   "nbconvert_exporter": "python",
   "pygments_lexer": "ipython3",
   "version": "3.13.1"
  }
 },
 "nbformat": 4,
 "nbformat_minor": 2
}
