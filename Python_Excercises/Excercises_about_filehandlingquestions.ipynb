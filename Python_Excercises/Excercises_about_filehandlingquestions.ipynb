{
 "cells": [
  {
   "cell_type": "markdown",
   "metadata": {},
   "source": [
    "### Assignment 1: Reading a File\n",
    "\n",
    "Write a function that reads the contents of a file named `sample.txt` and prints each line."
   ]
  },
  {
   "cell_type": "code",
   "execution_count": 1,
   "metadata": {},
   "outputs": [
    {
     "name": "stdout",
     "output_type": "stream",
     "text": [
      "Hola Como Estas\n"
     ]
    }
   ],
   "source": [
    "with open (r'temp\\sample.txt', 'r') as file:\n",
    "    content = file.read()\n",
    "    print(content)"
   ]
  },
  {
   "cell_type": "markdown",
   "metadata": {},
   "source": [
    "### Assignment 2: Writing to a File\n",
    "\n",
    "Write a function that writes a list of strings to a file named `output.txt`, with each string on a new line."
   ]
  },
  {
   "cell_type": "code",
   "execution_count": 2,
   "metadata": {},
   "outputs": [],
   "source": [
    "lista_strings = [\"Hola\", \"Como\", \"Estas\", \"Bien\" \" y tu\"]\n",
    "with open (r'temp\\output.txt', 'w') as file:\n",
    "    for word in lista_strings:\n",
    "        file.write(f\"{word}\\n\")\n"
   ]
  },
  {
   "cell_type": "markdown",
   "metadata": {},
   "source": [
    "### Assignment 3: Copying a File\n",
    "\n",
    "Write a function that copies the contents of a file named `source.txt` to a new file named `destination.txt`."
   ]
  },
  {
   "cell_type": "code",
   "execution_count": 5,
   "metadata": {},
   "outputs": [
    {
     "name": "stdout",
     "output_type": "stream",
     "text": [
      "Archivo Copiado Exitosamente\n"
     ]
    }
   ],
   "source": [
    "def copiar_archivo (archivo, destino):\n",
    "    try:\n",
    "        with open(archivo, 'rb') as archivo_origen:\n",
    "            with open(destino, 'wb') as archivo_destino:\n",
    "                for line in archivo_origen:\n",
    "                    archivo_destino.write(line)\n",
    "        print(\"Archivo Copiado Exitosamente\")\n",
    "        \n",
    "    except FileNotFoundError:\n",
    "        print(\"El archivo fuente no existe.\")\n",
    "        \n",
    "\n",
    "copiar_archivo(r\"temp\\sample.txt\", r\"temp\\archivo_copiado.txt\")"
   ]
  },
  {
   "cell_type": "markdown",
   "metadata": {},
   "source": [
    "### Assignment 4: Appending to a File\n",
    "\n",
    "Write a function that appends a given string to the end of a file named `log.txt`."
   ]
  },
  {
   "cell_type": "code",
   "execution_count": 8,
   "metadata": {},
   "outputs": [
    {
     "name": "stdout",
     "output_type": "stream",
     "text": [
      "Text append successfully.\n"
     ]
    }
   ],
   "source": [
    "def append_to_log(text):\n",
    "    try:\n",
    "        with open(r'temp\\log.txt', 'a') as file:\n",
    "            file.write(text + '\\n')\n",
    "        print(\"Text append successfully.\")\n",
    "    except Exception as e:\n",
    "        print(f'Un error a ocurrido: {e}')\n",
    "\n",
    "append_to_log(\"New log entry: System started.\")"
   ]
  },
  {
   "cell_type": "markdown",
   "metadata": {},
   "source": [
    "\n",
    "### Assignment 5: Counting Words in a File\n",
    "\n",
    "Write a function that reads the contents of a file named `document.txt` and returns the number of words in the file."
   ]
  },
  {
   "cell_type": "code",
   "execution_count": 10,
   "metadata": {},
   "outputs": [
    {
     "name": "stdout",
     "output_type": "stream",
     "text": [
      "12\n"
     ]
    }
   ],
   "source": [
    "def count_words(file_user):\n",
    "    with open(file_user, 'r') as file:\n",
    "        contador_1 = 0\n",
    "        for i in file_user:\n",
    "            for word in i:\n",
    "                contador_1 += 1\n",
    "        print (contador_1)\n",
    "\n",
    "count_words(r'temp\\log.txt')\n"
   ]
  },
  {
   "cell_type": "markdown",
   "metadata": {},
   "source": [
    "### Assignment 6: Finding and Replacing Text\n",
    "\n",
    "Write a function that finds and replaces all occurrences of a given word in a file named `data.txt` with another word."
   ]
  },
  {
   "cell_type": "code",
   "execution_count": 13,
   "metadata": {},
   "outputs": [],
   "source": [
    "def find_and_replace(file_path, old_word, new_word):\n",
    "        with open(file_path, 'r') as file:\n",
    "            content = file.read()\n",
    "        updated_content = content.replace(old_word, new_word)\n",
    "        with open(file_path, 'w') as file:\n",
    "            file.write(updated_content)\n",
    "\n",
    "\n",
    "find_and_replace(r'temp\\log.txt', 'log', 'registro')\n"
   ]
  },
  {
   "cell_type": "markdown",
   "metadata": {},
   "source": [
    "### Assignment 7: Reading a File in Reverse\n",
    "\n",
    "Write a function that reads the contents of a file named `reverse.txt` and prints each line in reverse order."
   ]
  },
  {
   "cell_type": "code",
   "execution_count": 20,
   "metadata": {},
   "outputs": [
    {
     "name": "stdout",
     "output_type": "stream",
     "text": [
      "tu quieres ir\n",
      "acabo de ir al cine\n",
      "es una prueba\n",
      "Hola como eestas\n"
     ]
    }
   ],
   "source": [
    "def file_reverse(file_path):\n",
    "    with open(file_path, 'r') as file:\n",
    "        lines = file.readlines()\n",
    "    for line in reversed(lines):\n",
    "        print(line.strip())\n",
    "    \n",
    "\n",
    "\n",
    "file_reverse(r'temp\\reverse.txt')"
   ]
  },
  {
   "cell_type": "markdown",
   "metadata": {},
   "source": [
    "### Assignment 8: Counting Lines, Words, and Characters\n",
    "\n",
    "Write a function that reads the contents of a file named `stats.txt` and returns the number of lines, words, and characters in the file."
   ]
  },
  {
   "cell_type": "code",
   "execution_count": 24,
   "metadata": {},
   "outputs": [
    {
     "data": {
      "text/plain": [
       "{'lines': 2, 'word': 10, 'characters': 72}"
      ]
     },
     "execution_count": 24,
     "metadata": {},
     "output_type": "execute_result"
    }
   ],
   "source": [
    "def document_analysis (file_path):\n",
    "    with open(file_path, \"r\") as file:\n",
    "        lines = file.readlines()\n",
    "    num_lines = len(lines)\n",
    "    num_words = sum(len(line.split()) for line in lines)\n",
    "    num_letters = sum(len(line)for line in lines)\n",
    "\n",
    "    return {\n",
    "        \"lines\": num_lines,\n",
    "        \"word\" : num_words,\n",
    "        \"characters\" : num_letters\n",
    "    }\n",
    "\n",
    "document_analysis(r'temp\\log.txt')"
   ]
  },
  {
   "cell_type": "markdown",
   "metadata": {},
   "source": [
    "### Assignment 9: Merging Multiple Files\n",
    "\n",
    "Write a function that merges the contents of multiple files into a single file named `merged.txt`."
   ]
  },
  {
   "cell_type": "code",
   "execution_count": 28,
   "metadata": {},
   "outputs": [
    {
     "name": "stdout",
     "output_type": "stream",
     "text": [
      "Files merged successfully into 'merged.txt'.\n"
     ]
    },
    {
     "name": "stderr",
     "output_type": "stream",
     "text": [
      "<>:3: SyntaxWarning: invalid escape sequence '\\m'\n",
      "<>:3: SyntaxWarning: invalid escape sequence '\\m'\n",
      "C:\\Users\\wichi\\AppData\\Local\\Temp\\ipykernel_31404\\3914994289.py:3: SyntaxWarning: invalid escape sequence '\\m'\n",
      "  with open('temp\\merged.txt', 'w') as merged_file:\n"
     ]
    }
   ],
   "source": [
    "def merge_files(file_list):\n",
    "    try:\n",
    "        with open('temp\\merged.txt', 'w') as merged_file:  \n",
    "            for file_name in file_list:\n",
    "                try:\n",
    "                    with open(file_name, 'r') as file:  \n",
    "                        merged_file.write(file.read() + '\\n')  \n",
    "                except FileNotFoundError:\n",
    "                    print(f\"Warning: '{file_name}' not found. Skipping.\")\n",
    "                except Exception as e:\n",
    "                    print(f\"Error reading '{file_name}': {e}\")\n",
    "        print(\"Files merged successfully into 'merged.txt'.\")\n",
    "    except Exception as e:\n",
    "        print(f\"An error occurred while merging: {e}\")\n",
    "\n",
    "merge_files([r'temp\\log.txt',r'temp\\reverse.txt'])"
   ]
  },
  {
   "cell_type": "markdown",
   "metadata": {},
   "source": [
    "### Assignment 10: Splitting a Large File\n",
    "\n",
    "Write a function that splits a large file named `large.txt` into smaller files of 100 lines each."
   ]
  },
  {
   "cell_type": "code",
   "execution_count": 34,
   "metadata": {},
   "outputs": [
    {
     "name": "stderr",
     "output_type": "stream",
     "text": [
      "<>:7: SyntaxWarning: invalid escape sequence '\\p'\n",
      "<>:7: SyntaxWarning: invalid escape sequence '\\p'\n",
      "C:\\Users\\wichi\\AppData\\Local\\Temp\\ipykernel_31404\\769776722.py:7: SyntaxWarning: invalid escape sequence '\\p'\n",
      "  with open(f'temp\\part_{file_number}.txt', 'w') as part_file:\n"
     ]
    }
   ],
   "source": [
    "def large_text(file_path):\n",
    "   with open(file_path, 'r') as file:\n",
    "            file_number = 1\n",
    "            lines = []\n",
    "            for line in file:\n",
    "                lines.append(line) \n",
    "                with open(f'temp\\part_{file_number}.txt', 'w') as part_file:\n",
    "                    part_file.writelines(lines)  \n",
    "                    lines = []  \n",
    "                    file_number += 1  \n",
    "\n",
    "large_text(r'temp\\largest.txt')"
   ]
  },
  {
   "cell_type": "markdown",
   "metadata": {},
   "source": [
    "### Assignment 11: Creating a Log File\n",
    "\n",
    "Write a function that creates a log file named `activity.log` and writes log messages with timestamps."
   ]
  },
  {
   "cell_type": "code",
   "execution_count": 41,
   "metadata": {},
   "outputs": [],
   "source": [
    "from datetime import datetime as dt\n",
    "\n",
    "def execution ():\n",
    "    with open (r\"temp\\log.txt\", 'a') as file:\n",
    "        timestamp = dt.now()\n",
    "        file.write(f'[{timestamp}]')\n",
    "\n",
    "execution()"
   ]
  },
  {
   "cell_type": "markdown",
   "metadata": {},
   "source": [
    "### Assignment 12: Binary File Operations\n",
    "\n",
    "Write a function that reads a binary file named `image.bin` and writes its contents to another binary file named `copy_image.bin`."
   ]
  },
  {
   "cell_type": "code",
   "execution_count": 42,
   "metadata": {},
   "outputs": [
    {
     "name": "stdout",
     "output_type": "stream",
     "text": [
      "Error: 'image.bin' not found.\n"
     ]
    }
   ],
   "source": [
    "def copy_binary_file():\n",
    "    try:\n",
    "        with open('image.bin', 'rb') as src_file, open('copy_image.bin', 'wb') as dest_file:\n",
    "            dest_file.write(src_file.read())  \n",
    "        print(\"Binary file copied successfully.\")\n",
    "    except FileNotFoundError:\n",
    "        print(\"Error: 'image.bin' not found.\")\n",
    "    except Exception as e:\n",
    "        print(f\"An error occurred: {e}\")\n",
    "\n",
    "copy_binary_file()"
   ]
  },
  {
   "cell_type": "markdown",
   "metadata": {},
   "source": [
    "### Assignment 13: CSV File Operations\n",
    "\n",
    "Write a function that reads a CSV file named `data.csv` and prints its contents as a list of dictionaries."
   ]
  },
  {
   "cell_type": "code",
   "execution_count": 43,
   "metadata": {},
   "outputs": [],
   "source": [
    "def read_csv (file_path):\n",
    "    with open('data.csv', 'r', newline='') as file:\n",
    "            reader = csv.DictReader(file)  \n",
    "            data = list(reader)  \n",
    "    print(data)  \n",
    "    return data"
   ]
  },
  {
   "cell_type": "markdown",
   "metadata": {},
   "source": [
    "### Assignment 14: JSON File Operations\n",
    "\n",
    "Write a function that reads a JSON file named `data.json` and prints its contents as a Python dictionary.\n"
   ]
  },
  {
   "cell_type": "code",
   "execution_count": 44,
   "metadata": {},
   "outputs": [],
   "source": [
    "import json\n",
    "def read_json():\n",
    "        with open('data.json', 'r') as file:\n",
    "            data = json.load(file)  \n",
    "        print(data)\n",
    "        return data\n",
    "   "
   ]
  },
  {
   "cell_type": "markdown",
   "metadata": {},
   "source": [
    "### Assignment 15: File Permission Handling\n",
    "\n",
    "Write a function that attempts to read a file named `protected.txt` and handles any permission errors gracefully by printing an error message."
   ]
  }
 ],
 "metadata": {
  "kernelspec": {
   "display_name": "bootcamp",
   "language": "python",
   "name": "python3"
  },
  "language_info": {
   "codemirror_mode": {
    "name": "ipython",
    "version": 3
   },
   "file_extension": ".py",
   "mimetype": "text/x-python",
   "name": "python",
   "nbconvert_exporter": "python",
   "pygments_lexer": "ipython3",
   "version": "3.13.1"
  }
 },
 "nbformat": 4,
 "nbformat_minor": 2
}
