{
 "cells": [
  {
   "cell_type": "markdown",
   "metadata": {},
   "source": [
    "# Module 5: Modules and Packages Assignments\n",
    "## Lesson 5.1: Importing Modules\n",
    "### Assignment 1: Importing and Using Modules\n",
    "\n",
    "Import the `math` module and use it to calculate the square root of 25 and the sine of 90 degrees.\n"
   ]
  },
  {
   "cell_type": "code",
   "execution_count": 2,
   "metadata": {},
   "outputs": [
    {
     "name": "stdout",
     "output_type": "stream",
     "text": [
      "5.0\n",
      "0.8939966636005579\n"
     ]
    }
   ],
   "source": [
    "import math\n",
    "print(math.sqrt(25))\n",
    "print(math.sin(90))"
   ]
  },
  {
   "cell_type": "markdown",
   "metadata": {},
   "source": [
    "### Assignment 2: Aliasing Modules\n",
    "\n",
    "Import the `datetime` module with an alias and use it to print the current date and time"
   ]
  },
  {
   "cell_type": "code",
   "execution_count": 6,
   "metadata": {},
   "outputs": [
    {
     "name": "stdout",
     "output_type": "stream",
     "text": [
      "2025-02-19 21:53:54.920829\n"
     ]
    }
   ],
   "source": [
    "import datetime as dt\n",
    "print(dt.datetime.now())\n"
   ]
  },
  {
   "cell_type": "markdown",
   "metadata": {},
   "source": [
    "### Assignment 3: Importing Specific Functions\n",
    "\n",
    "Import the `randint` function from the `random` module and use it to generate a random integer between 1 and 100."
   ]
  },
  {
   "cell_type": "code",
   "execution_count": 7,
   "metadata": {},
   "outputs": [
    {
     "name": "stdout",
     "output_type": "stream",
     "text": [
      "66\n"
     ]
    }
   ],
   "source": [
    "from random import randint\n",
    "print(randint(1,100))"
   ]
  },
  {
   "cell_type": "markdown",
   "metadata": {},
   "source": [
    "### Assignment 4: Importing Multiple Functions\n",
    "\n",
    "Import the `sqrt` and `pow` functions from the `math` module and use them to calculate the square root of 16 and 2 raised to the power of 3."
   ]
  },
  {
   "cell_type": "code",
   "execution_count": 9,
   "metadata": {},
   "outputs": [
    {
     "name": "stdout",
     "output_type": "stream",
     "text": [
      "16.0\n"
     ]
    }
   ],
   "source": [
    "from math import sqrt, pow\n",
    "print(pow(sqrt(16),2))"
   ]
  },
  {
   "cell_type": "markdown",
   "metadata": {},
   "source": [
    "### Assignment 5: Handling Import Errors\n",
    "\n",
    "Write code that attempts to import a non-existent module and gracefully handles the import error by printing an error message."
   ]
  },
  {
   "cell_type": "code",
   "execution_count": 11,
   "metadata": {},
   "outputs": [
    {
     "name": "stdout",
     "output_type": "stream",
     "text": [
      "Teradata module not found\n",
      "End of script\n"
     ]
    }
   ],
   "source": [
    "try: \n",
    "    import teradata as td\n",
    "except ImportError:\n",
    "        print(\"Teradata module not found\")\n",
    "else:\n",
    "        print(\"Teradata module found\")\n",
    "finally:\n",
    "        print(\"End of script\")"
   ]
  },
  {
   "cell_type": "markdown",
   "metadata": {},
   "source": [
    "## Lesson 5.2: Standard Library Overview\n",
    "### Assignment 6: Working with the `os` Module\n",
    "\n",
    "Use the `os` module to create a new directory, list the contents of the current directory, and remove the newly created directory."
   ]
  },
  {
   "cell_type": "code",
   "execution_count": null,
   "metadata": {},
   "outputs": [
    {
     "name": "stdout",
     "output_type": "stream",
     "text": [
      "c:\\Users\\wichi\\bootcamp\\complete_data_science\\Mi-Portafolio\\Python_Excercises\n",
      "['Excercides_about_dictionary.ipynb', 'Excercises_about_concurrencia.ipynb', 'Excercises_about_packages.ipynb', 'Excercises_about_sets.ipynb', 'Excersises_about_fuctions.ipynb', 'Exercises_about_list.ipynb', 'Exercises_about_tuple.ipynb']\n",
      "['Excercides_about_dictionary.ipynb', 'Excercises_about_concurrencia.ipynb', 'Excercises_about_packages.ipynb', 'Excercises_about_sets.ipynb', 'Excersises_about_fuctions.ipynb', 'Exercises_about_list.ipynb', 'Exercises_about_tuple.ipynb', 'test']\n"
     ]
    }
   ],
   "source": [
    "import os\n",
    "\n",
    "print(os.getcwd())\n",
    "print(os.listdir())\n",
    "os.mkdir(\"test\")\n",
    "print(os.listdir())\n",
    "os.rmdir(\"test\")"
   ]
  },
  {
   "cell_type": "markdown",
   "metadata": {},
   "source": [
    "### Assignment 7: Working with the `sys` Module\n",
    "\n",
    "Use the `sys` module to print the Python version currently in use and the command-line arguments passed to the script."
   ]
  },
  {
   "cell_type": "code",
   "execution_count": 15,
   "metadata": {},
   "outputs": [
    {
     "name": "stdout",
     "output_type": "stream",
     "text": [
      "3.13.1 | packaged by conda-forge | (main, Jan 13 2025, 09:37:28) [MSC v.1942 64 bit (AMD64)]\n",
      "['c:\\\\Users\\\\wichi\\\\anaconda3\\\\envs\\\\bootcamp\\\\python313.zip', 'c:\\\\Users\\\\wichi\\\\anaconda3\\\\envs\\\\bootcamp\\\\DLLs', 'c:\\\\Users\\\\wichi\\\\anaconda3\\\\envs\\\\bootcamp\\\\Lib', 'c:\\\\Users\\\\wichi\\\\anaconda3\\\\envs\\\\bootcamp', '', 'c:\\\\Users\\\\wichi\\\\anaconda3\\\\envs\\\\bootcamp\\\\Lib\\\\site-packages', 'c:\\\\Users\\\\wichi\\\\anaconda3\\\\envs\\\\bootcamp\\\\Lib\\\\site-packages\\\\win32', 'c:\\\\Users\\\\wichi\\\\anaconda3\\\\envs\\\\bootcamp\\\\Lib\\\\site-packages\\\\win32\\\\lib', 'c:\\\\Users\\\\wichi\\\\anaconda3\\\\envs\\\\bootcamp\\\\Lib\\\\site-packages\\\\Pythonwin']\n",
      "win32\n"
     ]
    }
   ],
   "source": [
    "import sys\n",
    "print(sys.version)\n",
    "print(sys.path)\n",
    "print(sys.platform)"
   ]
  },
  {
   "cell_type": "markdown",
   "metadata": {},
   "source": [
    "### Assignment 8: Working with the `math` Module\n",
    "\n",
    "Use the `math` module to calculate the greatest common divisor (GCD) of two numbers and the factorial of a number."
   ]
  },
  {
   "cell_type": "code",
   "execution_count": 20,
   "metadata": {},
   "outputs": [
    {
     "data": {
      "text/plain": [
       "6"
      ]
     },
     "execution_count": 20,
     "metadata": {},
     "output_type": "execute_result"
    }
   ],
   "source": [
    "import math\n",
    "math.gcd(200,400)\n",
    "math.factorial(3)\n"
   ]
  },
  {
   "cell_type": "markdown",
   "metadata": {},
   "source": [
    "### Assignment 9: Working with the `datetime` Module\n",
    "\n",
    "Use the `datetime` module to print the current date, calculate the date 100 days from today, and determine the day of the week for a given date."
   ]
  },
  {
   "cell_type": "code",
   "execution_count": 1,
   "metadata": {},
   "outputs": [
    {
     "name": "stdout",
     "output_type": "stream",
     "text": [
      "2025-02-20 08:54:29.469666\n",
      "2025-05-31 08:54:29.469786\n"
     ]
    }
   ],
   "source": [
    "import datetime as dt\n",
    "print(dt.datetime.now())\n",
    "print(dt.datetime.now()+dt.timedelta(days=100))\n"
   ]
  },
  {
   "cell_type": "markdown",
   "metadata": {},
   "source": [
    "### Assignment 10: Working with the `random` Module\n",
    "\n",
    "Use the `random` module to generate a list of 5 random numbers between 1 and 50 and shuffle the elements of a list."
   ]
  },
  {
   "cell_type": "code",
   "execution_count": 4,
   "metadata": {},
   "outputs": [
    {
     "name": "stdout",
     "output_type": "stream",
     "text": [
      "[41, 10, 25, 38, 21, 6, 35, 11, 44, 36, 27, 28, 48, 37, 49, 8, 2, 23, 20, 29, 17, 9, 31, 30, 32, 15, 3, 40, 42, 18, 45, 19, 33, 5, 34, 7, 24, 43, 39, 22, 14, 4, 16, 47, 12, 26, 46, 1, 13]\n",
      "[18, 26, 48, 28, 42]\n"
     ]
    }
   ],
   "source": [
    "import random\n",
    "nums_random = list(range(1,50))\n",
    "random.shuffle(nums_random)\n",
    "print(nums_random)\n",
    "random_sample = random.sample(range(1,50),5)\n",
    "random.shuffle(random_sample)\n",
    "print(random_sample)\n"
   ]
  },
  {
   "cell_type": "markdown",
   "metadata": {},
   "source": [
    "\n",
    "## Lesson 5.3: Creating and Using Packages\n",
    "### Assignment 11: Creating a Simple Package\n",
    "\n",
    "Create a package named `mypackage` with two modules: `module1` and `module2`. `module1` should contain a function that adds two numbers, and `module2` should contain a function that multiplies two numbers. Write code to use these functions."
   ]
  },
  {
   "cell_type": "code",
   "execution_count": 6,
   "metadata": {},
   "outputs": [
    {
     "data": {
      "text/plain": [
       "19"
      ]
     },
     "execution_count": 6,
     "metadata": {},
     "output_type": "execute_result"
    }
   ],
   "source": [
    "from mypackage import module1, module2\n",
    "\n",
    "module1.suma_dos(1,2)\n",
    "module2.multiplicar_dos(1,19)\n"
   ]
  },
  {
   "cell_type": "code",
   "execution_count": 7,
   "metadata": {},
   "outputs": [
    {
     "data": {
      "text/plain": [
       "6"
      ]
     },
     "execution_count": 7,
     "metadata": {},
     "output_type": "execute_result"
    }
   ],
   "source": [
    "import mypackage\n",
    "\n",
    "module1.suma_dos(3,4)\n",
    "module2.multiplicar_dos(2,3)"
   ]
  },
  {
   "cell_type": "markdown",
   "metadata": {},
   "source": [
    "### Assignment 12: Relative Imports\n",
    "\n",
    "Create a subpackage named `subpackage` within `mypackage` and move `module2` into `subpackage`. Modify the import statements in `__init__.py` to use relative imports. Write code to use the functions from both modules."
   ]
  },
  {
   "cell_type": "code",
   "execution_count": 22,
   "metadata": {},
   "outputs": [
    {
     "data": {
      "text/plain": [
       "4"
      ]
     },
     "execution_count": 22,
     "metadata": {},
     "output_type": "execute_result"
    }
   ],
   "source": [
    "from mypackage.subpackage import module2\n",
    "\n",
    "module2.multiplicar_dos(2,2)\n"
   ]
  },
  {
   "cell_type": "markdown",
   "metadata": {},
   "source": [
    "### Assignment 13: Importing from a Package\n",
    "\n",
    "Write code to import and use the functions from `mypackage` without explicitly importing `module1` and `module2`.\n"
   ]
  },
  {
   "cell_type": "code",
   "execution_count": 23,
   "metadata": {},
   "outputs": [
    {
     "data": {
      "text/plain": [
       "4"
      ]
     },
     "execution_count": 23,
     "metadata": {},
     "output_type": "execute_result"
    }
   ],
   "source": [
    "import mypackage\n",
    "mypackage.module2.multiplicar_dos(2,2)"
   ]
  },
  {
   "cell_type": "markdown",
   "metadata": {},
   "source": [
    "### Assignment 15: Handling Package Import Errors\n",
    "\n",
    "Write code that attempts to import a non-existent function from `mypackage` and gracefully handles the import error by printing an error message."
   ]
  },
  {
   "cell_type": "code",
   "execution_count": 26,
   "metadata": {},
   "outputs": [
    {
     "name": "stdout",
     "output_type": "stream",
     "text": [
      "El modulo si existe\n",
      "Se importo correctamente\n"
     ]
    }
   ],
   "source": [
    "try:\n",
    "    import pandas\n",
    "except ImportError:\n",
    "    print(\"El modulo no existe\")\n",
    "else: \n",
    "    print(\"El modulo si existe\")\n",
    "finally:\n",
    "    print(\"Se importo correctamente\")"
   ]
  }
 ],
 "metadata": {
  "kernelspec": {
   "display_name": "bootcamp",
   "language": "python",
   "name": "python3"
  },
  "language_info": {
   "codemirror_mode": {
    "name": "ipython",
    "version": 3
   },
   "file_extension": ".py",
   "mimetype": "text/x-python",
   "name": "python",
   "nbconvert_exporter": "python",
   "pygments_lexer": "ipython3",
   "version": "3.13.1"
  }
 },
 "nbformat": 4,
 "nbformat_minor": 2
}
