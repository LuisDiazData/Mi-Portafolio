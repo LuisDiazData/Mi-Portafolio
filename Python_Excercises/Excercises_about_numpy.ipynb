{
 "cells": [
  {
   "cell_type": "markdown",
   "metadata": {},
   "source": [
    "### Assignment 1: Array Creation and Manipulation\n",
    "\n",
    "1. Create a NumPy array of shape (5, 5) filled with random integers between 1 and 20. Replace all the elements in the third column with 1.\n",
    "2. Create a NumPy array of shape (4, 4) with values from 1 to 16. Replace the diagonal elements with 0.\n"
   ]
  },
  {
   "cell_type": "code",
   "execution_count": 8,
   "metadata": {},
   "outputs": [
    {
     "data": {
      "text/plain": [
       "array([[14, 18,  1,  2, 11],\n",
       "       [15, 16,  1, 18, 19],\n",
       "       [ 8, 19,  1,  5,  5],\n",
       "       [19,  8,  1, 10, 14],\n",
       "       [17, 18,  1, 12,  6]], dtype=int32)"
      ]
     },
     "execution_count": 8,
     "metadata": {},
     "output_type": "execute_result"
    }
   ],
   "source": [
    "import numpy as np\n",
    "\n",
    "arra1 = np.random.randint(1, 20, size=(5, 5))\n",
    "arra1[:,2]=1\n",
    "arra1\n"
   ]
  },
  {
   "cell_type": "code",
   "execution_count": 10,
   "metadata": {},
   "outputs": [
    {
     "data": {
      "text/plain": [
       "array([[ 0,  2,  7, 15],\n",
       "       [ 2,  0,  1,  3],\n",
       "       [ 4,  7,  0, 15],\n",
       "       [ 8, 12, 12,  0]], dtype=int32)"
      ]
     },
     "execution_count": 10,
     "metadata": {},
     "output_type": "execute_result"
    }
   ],
   "source": [
    "arra2 = np.random.randint(1, 16, size=(4, 4))\n",
    "np.fill_diagonal(arra2, 0)\n",
    "arra2"
   ]
  },
  {
   "cell_type": "markdown",
   "metadata": {},
   "source": [
    "### Assignment 2: Array Indexing and Slicing\n",
    "\n",
    "1. Create a NumPy array of shape (6, 6) with values from 1 to 36. Extract the sub-array consisting of the 3rd to 5th rows and 2nd to 4th columns.\n",
    "2. Create a NumPy array of shape (5, 5) with random integers. Extract the elements on the border."
   ]
  },
  {
   "cell_type": "code",
   "execution_count": 11,
   "metadata": {},
   "outputs": [
    {
     "data": {
      "text/plain": [
       "array([[14, 15, 16],\n",
       "       [20, 21, 22],\n",
       "       [26, 27, 28]])"
      ]
     },
     "execution_count": 11,
     "metadata": {},
     "output_type": "execute_result"
    }
   ],
   "source": [
    "arra1 = np.arange(1,37).reshape(6,6)\n",
    "sub_Array = arra1[2:5, 1:4]\n",
    "sub_Array"
   ]
  },
  {
   "cell_type": "code",
   "execution_count": 21,
   "metadata": {},
   "outputs": [
    {
     "name": "stdout",
     "output_type": "stream",
     "text": [
      "[[0 0 0 0 0]\n",
      " [0 0 0 0 0]\n",
      " [0 0 0 0 0]\n",
      " [0 0 0 0 0]\n",
      " [0 0 0 0 0]]\n",
      "[[3 9 5 6 4]\n",
      " [5 6 7 9 2]\n",
      " [6 6 4 1 1]\n",
      " [2 5 9 4 8]\n",
      " [3 8 2 5 7]]\n"
     ]
    }
   ],
   "source": [
    "arra2 = np.random.randint(1, 10, size=(5, 5))\n",
    "border_elements = np.zeros_like(arra2)\n",
    "print(border_elements)\n",
    "print(arra2)"
   ]
  },
  {
   "cell_type": "code",
   "execution_count": 25,
   "metadata": {},
   "outputs": [
    {
     "data": {
      "text/plain": [
       "array([[3, 9, 5, 6, 4],\n",
       "       [5, 0, 0, 0, 2],\n",
       "       [6, 0, 0, 0, 1],\n",
       "       [2, 0, 0, 0, 8],\n",
       "       [3, 8, 2, 5, 7]], dtype=int32)"
      ]
     },
     "execution_count": 25,
     "metadata": {},
     "output_type": "execute_result"
    }
   ],
   "source": [
    "border_elements[0, :] = arra2[0, :]\n",
    "border_elements[-1,:] = arra2[-1,:]\n",
    "border_elements[:,0] = arra2[:,0]\n",
    "border_elements[:,-1] = arra2[:,-1]\n",
    "border_elements"
   ]
  },
  {
   "cell_type": "markdown",
   "metadata": {},
   "source": [
    "### Assignment 3: Array Operations\n",
    "\n",
    "1. Create two NumPy arrays of shape (3, 4) filled with random integers. Perform element-wise addition, subtraction, multiplication, and division.\n",
    "2. Create a NumPy array of shape (4, 4) with values from 1 to 16. Compute the row-wise and column-wise sum."
   ]
  },
  {
   "cell_type": "code",
   "execution_count": 29,
   "metadata": {},
   "outputs": [
    {
     "data": {
      "text/plain": [
       "array([[0.6       , 0.66666667, 0.75      , 0.75      ],\n",
       "       [1.        , 1.125     , 0.5       , 4.        ],\n",
       "       [2.33333333, 0.85714286, 4.        , 0.6       ]])"
      ]
     },
     "execution_count": 29,
     "metadata": {},
     "output_type": "execute_result"
    }
   ],
   "source": [
    "arr1 = np.random.randint(1, 10, size=(3, 4))\n",
    "arra2 = np.random.randint(1, 10, size=(3, 4))\n",
    "result = arr1 + arra2\n",
    "result\n",
    "result = arr1 - arra2\n",
    "result\n",
    "result = arr1 * arra2\n",
    "result\n",
    "result = arr1 / arra2\n",
    "result"
   ]
  },
  {
   "cell_type": "code",
   "execution_count": 37,
   "metadata": {},
   "outputs": [
    {
     "data": {
      "text/plain": [
       "array([33, 25, 12, 22])"
      ]
     },
     "execution_count": 37,
     "metadata": {},
     "output_type": "execute_result"
    }
   ],
   "source": [
    "arr3 = np.random.randint(1, 16, size=(4, 4))\n",
    "row_sum = arr3.sum(axis=1)\n",
    "row_sum"
   ]
  },
  {
   "cell_type": "code",
   "execution_count": 38,
   "metadata": {},
   "outputs": [
    {
     "data": {
      "text/plain": [
       "array([23, 14, 24, 31])"
      ]
     },
     "execution_count": 38,
     "metadata": {},
     "output_type": "execute_result"
    }
   ],
   "source": [
    "column_sum = arr3.sum(axis=0)\n",
    "column_sum\n"
   ]
  },
  {
   "cell_type": "markdown",
   "metadata": {},
   "source": [
    "### Assignment 4: Statistical Operations\n",
    "\n",
    "1. Create a NumPy array of shape (5, 5) filled with random integers. Compute the mean, median, standard deviation, and variance of the array.\n",
    "2. Create a NumPy array of shape (3, 3) with values from 1 to 9. Normalize the array (i.e., scale the values to have a mean of 0 and a standard deviation of 1)."
   ]
  },
  {
   "cell_type": "code",
   "execution_count": 44,
   "metadata": {},
   "outputs": [
    {
     "data": {
      "text/plain": [
       "(np.float64(42.32),\n",
       " np.float64(42.32),\n",
       " np.float64(38.0),\n",
       " np.float64(28.78015983277369),\n",
       " np.float64(828.2976000000001))"
      ]
     },
     "execution_count": 44,
     "metadata": {},
     "output_type": "execute_result"
    }
   ],
   "source": [
    "array = np.random.randint(1, 101, size=(5, 5))\n",
    "mean= np.mean(array)\n",
    "mean_value = np.mean(array)\n",
    "median_value = np.median(array)\n",
    "std_dev = np.std(array)\n",
    "variance = np.var(array)\n",
    "mean, mean_value, median_value, std_dev, variance\n"
   ]
  },
  {
   "cell_type": "markdown",
   "metadata": {},
   "source": [
    "### Assignment 5: Broadcasting\n",
    "\n",
    "1. Create a NumPy array of shape (3, 3) filled with random integers. Add a 1D array of shape (3,) to each row of the 2D array using broadcasting.\n",
    "2. Create a NumPy array of shape (4, 4) filled with random integers. Subtract a 1D array of shape (4,) from each column of the 2D array using broadcasting."
   ]
  },
  {
   "cell_type": "code",
   "execution_count": 59,
   "metadata": {},
   "outputs": [
    {
     "data": {
      "text/plain": [
       "(array([[4, 2, 6, 8]], dtype=int32),\n",
       " array([[4, 2, 6, 8],\n",
       "        [4, 9, 8, 4],\n",
       "        [6, 9, 7, 8],\n",
       "        [5, 9, 1, 3]], dtype=int32))"
      ]
     },
     "execution_count": 59,
     "metadata": {},
     "output_type": "execute_result"
    }
   ],
   "source": [
    "arraya=np.random.randint(1, 10, size=(4, 4))\n",
    "arrayb=arraya[0:1,:]\n",
    "arrayb,arraya"
   ]
  },
  {
   "cell_type": "code",
   "execution_count": null,
   "metadata": {},
   "outputs": [
    {
     "data": {
      "text/plain": [
       "array([[27, 18, 35,  1],\n",
       "       [29,  5, 27, 38],\n",
       "       [18, 30, 34,  6]], dtype=int32)"
      ]
     },
     "execution_count": 56,
     "metadata": {},
     "output_type": "execute_result"
    }
   ],
   "source": [
    "array_2d = np.random.randint(1, 51, size=(3, 3))\n",
    "array_1d = np.random.randint(1, 51, size=(3,))\n",
    "result_array_column = np.column_stack((array_2d, array_1d))\n",
    "result_array_column\n",
    "\n"
   ]
  },
  {
   "cell_type": "markdown",
   "metadata": {},
   "source": [
    "### Assignment 6: Linear Algebra\n",
    "\n",
    "1. Create a NumPy array of shape (3, 3) representing a matrix. Compute its determinant, inverse, and eigenvalues.\n",
    "2. Create two NumPy arrays of shape (2, 3) and (3, 2). Perform matrix multiplication on these arrays."
   ]
  },
  {
   "cell_type": "code",
   "execution_count": 60,
   "metadata": {},
   "outputs": [
    {
     "data": {
      "text/plain": [
       "(np.float64(149.99999999999997),\n",
       " array([[-0.04      ,  0.14      , -0.06      ],\n",
       "        [-0.02666667, -0.07333333,  0.46      ],\n",
       "        [ 0.16      , -0.06      , -0.26      ]]))"
      ]
     },
     "execution_count": 60,
     "metadata": {},
     "output_type": "execute_result"
    }
   ],
   "source": [
    "matrix = np.random.randint(1, 11, size=(3, 3))\n",
    "determinant = np.linalg.det(matrix)\n",
    "try:\n",
    "    inverse = np.linalg.inv(matrix)\n",
    "except np.linalg.LinAlgError:\n",
    "    inverse = \"La matriz no es invertible\"\n",
    "determinant, inverse"
   ]
  },
  {
   "cell_type": "code",
   "execution_count": 61,
   "metadata": {},
   "outputs": [
    {
     "data": {
      "text/plain": [
       "array([15.30068778+0.j        , -2.15034389+2.27585194j,\n",
       "       -2.15034389-2.27585194j])"
      ]
     },
     "execution_count": 61,
     "metadata": {},
     "output_type": "execute_result"
    }
   ],
   "source": [
    "eigenvalues = np.linalg.eigvals(matrix)\n",
    "eigenvalues"
   ]
  },
  {
   "cell_type": "code",
   "execution_count": 62,
   "metadata": {},
   "outputs": [
    {
     "data": {
      "text/plain": [
       "array([[35, 51],\n",
       "       [52, 68]], dtype=int32)"
      ]
     },
     "execution_count": 62,
     "metadata": {},
     "output_type": "execute_result"
    }
   ],
   "source": [
    "matrix_A = np.random.randint(1, 10, size=(2, 3))\n",
    "matrix_B = np.random.randint(1, 10, size=(3, 2))\n",
    "matrix_product = np.dot(matrix_A, matrix_B)\n",
    "matrix_product"
   ]
  },
  {
   "cell_type": "markdown",
   "metadata": {},
   "source": [
    "### Assignment 7: Advanced Array Manipulation\n",
    "\n",
    "1. Create a NumPy array of shape (3, 3) with values from 1 to 9. Reshape the array to shape (1, 9) and then to shape (9, 1).\n",
    "2. Create a NumPy array of shape (5, 5) filled with random integers. Flatten the array and then reshape it back to (5, 5)."
   ]
  },
  {
   "cell_type": "code",
   "execution_count": 74,
   "metadata": {},
   "outputs": [
    {
     "data": {
      "text/plain": [
       "(array([[1, 2, 3],\n",
       "        [4, 5, 6],\n",
       "        [7, 8, 9]]),\n",
       " array([[1, 2, 3, 4, 5, 6, 7, 8, 9]]),\n",
       " array([[1],\n",
       "        [2],\n",
       "        [3],\n",
       "        [4],\n",
       "        [5],\n",
       "        [6],\n",
       "        [7],\n",
       "        [8],\n",
       "        [9]]))"
      ]
     },
     "execution_count": 74,
     "metadata": {},
     "output_type": "execute_result"
    }
   ],
   "source": [
    "array1 = np.arange(1, 10).reshape(3,3)\n",
    "array1x9 = array1.reshape(1,9)\n",
    "array9x1 = array1.reshape(9,1)\n",
    "\n",
    "array1, array1x9, array9x1"
   ]
  },
  {
   "cell_type": "markdown",
   "metadata": {},
   "source": [
    "### Assignment 8: Fancy Indexing and Boolean Indexing\n",
    "\n",
    "1. Create a NumPy array of shape (5, 5) filled with random integers. Use fancy indexing to extract the elements at the corners of the array.\n",
    "2. Create a NumPy array of shape (4, 4) filled with random integers. Use boolean indexing to set all elements greater than 10 to 10."
   ]
  },
  {
   "cell_type": "code",
   "execution_count": null,
   "metadata": {},
   "outputs": [
    {
     "name": "stdout",
     "output_type": "stream",
     "text": [
      "[[ 7  3 28 30 33]\n",
      " [15 32 27  6 19]\n",
      " [47 37  8 37  5]\n",
      " [ 9 12 30 42 27]\n",
      " [11 19 18 37 30]]\n",
      "[ 7 33 11 30]\n",
      "[[15  7  8 12]\n",
      " [10 15  4 16]\n",
      " [ 6  7  6 11]\n",
      " [ 6 14  2  1]]\n"
     ]
    }
   ],
   "source": [
    "\n",
    "array_5x5 = np.random.randint(1, 51, size=(5, 5))\n",
    "print(array_5x5)\n",
    "\n",
    "corner_elements = array_5x5[[0, 0, -1, -1], [0, -1, 0, -1]]\n",
    "\n",
    "print(corner_elements)\n",
    "array_4x4 = np.random.randint(1, 21, size=(4, 4))\n",
    "\n",
    "print(array_4x4)\n",
    "array_4x4[array_4x4 > 10] = 10\n",
    "\n"
   ]
  },
  {
   "cell_type": "markdown",
   "metadata": {},
   "source": [
    "\n",
    "### Assignment 9: Structured Arrays\n",
    "\n",
    "1. Create a structured array with fields 'name' (string), 'age' (integer), and 'weight' (float). Add some data and sort the array by age.\n",
    "2. Create a structured array with fields 'x' and 'y' (both integers). Add some data and compute the Euclidean distance between each pair of points."
   ]
  },
  {
   "cell_type": "code",
   "execution_count": 80,
   "metadata": {},
   "outputs": [
    {
     "data": {
      "text/plain": [
       "array([[0.        , 5.        , 8.48528137, 1.41421356],\n",
       "       [5.        , 0.        , 3.60555128, 3.60555128],\n",
       "       [8.48528137, 3.60555128, 0.        , 7.07106781],\n",
       "       [1.41421356, 3.60555128, 7.07106781, 0.        ]])"
      ]
     },
     "execution_count": 80,
     "metadata": {},
     "output_type": "execute_result"
    }
   ],
   "source": [
    "\n",
    "structured_array = np.array([\n",
    "    ('Alice', 25, 55.5),\n",
    "    ('Bob', 30, 75.2),\n",
    "    ('Charlie', 22, 68.9),\n",
    "    ('David', 35, 80.0)\n",
    "], dtype=[('name', 'U10'), ('age', 'i4'), ('weight', 'f4')])\n",
    "\n",
    "\n",
    "sorted_array = np.sort(structured_array, order='age')\n",
    "\n",
    "\n",
    "points = np.array([\n",
    "    (1, 2),\n",
    "    (4, 6),\n",
    "    (7, 8),\n",
    "    (2, 3)\n",
    "], dtype=[('x', 'i4'), ('y', 'i4')])\n",
    "\n",
    "\n",
    "num_points = len(points)\n",
    "distances = np.zeros((num_points, num_points))\n",
    "\n",
    "for i in range(num_points):\n",
    "    for j in range(num_points):\n",
    "        distances[i, j] = np.sqrt((points[i]['x'] - points[j]['x'])**2 + (points[i]['y'] - points[j]['y'])**2)\n",
    "\n",
    "distances\n"
   ]
  },
  {
   "cell_type": "markdown",
   "metadata": {},
   "source": [
    "### Assignment 10: Masked Arrays\n",
    "\n",
    "1. Create a masked array of shape (4, 4) with random integers and mask the elements greater than 10. Compute the sum of the unmasked elements.\n",
    "2. Create a masked array of shape (3, 3) with random integers and mask the diagonal elements. Replace the masked elements with the mean of the unmasked elements."
   ]
  },
  {
   "cell_type": "code",
   "execution_count": 82,
   "metadata": {},
   "outputs": [
    {
     "data": {
      "text/plain": [
       "masked_array(\n",
       "  data=[[5, --, --, 7],\n",
       "        [10, --, --, --],\n",
       "        [--, --, 8, --],\n",
       "        [1, 7, 2, 10]],\n",
       "  mask=[[False,  True,  True, False],\n",
       "        [False,  True,  True,  True],\n",
       "        [ True,  True, False,  True],\n",
       "        [False, False, False, False]],\n",
       "  fill_value=np.int64(999999),\n",
       "  dtype=int32)"
      ]
     },
     "execution_count": 82,
     "metadata": {},
     "output_type": "execute_result"
    }
   ],
   "source": [
    "import numpy.ma as ma\n",
    "array_4x4 = np.random.randint(1, 21, size=(4, 4))\n",
    "masked_array_4x4 = ma.masked_greater(array_4x4, 10)\n",
    "masked_array_4x4"
   ]
  },
  {
   "cell_type": "code",
   "execution_count": 84,
   "metadata": {},
   "outputs": [
    {
     "data": {
      "text/plain": [
       "np.int64(50)"
      ]
     },
     "execution_count": 84,
     "metadata": {},
     "output_type": "execute_result"
    }
   ],
   "source": [
    "sum_unmasked = masked_array_4x4.sum()\n",
    "sum_unmasked"
   ]
  },
  {
   "cell_type": "code",
   "execution_count": 85,
   "metadata": {},
   "outputs": [
    {
     "name": "stdout",
     "output_type": "stream",
     "text": [
      "[[12  4 19]\n",
      " [ 9 19  6]\n",
      " [ 4 20 18]]\n"
     ]
    },
    {
     "data": {
      "text/plain": [
       "masked_array(\n",
       "  data=[[--, 4, 19],\n",
       "        [9, --, 6],\n",
       "        [4, 20, --]],\n",
       "  mask=[[ True, False, False],\n",
       "        [False,  True, False],\n",
       "        [False, False,  True]],\n",
       "  fill_value=np.int64(999999),\n",
       "  dtype=int32)"
      ]
     },
     "execution_count": 85,
     "metadata": {},
     "output_type": "execute_result"
    }
   ],
   "source": [
    "array_3x3 = np.random.randint(1, 21, size=(3, 3))\n",
    "print(array_3x3)\n",
    "masked_array_3x3 = ma.masked_array(array_3x3, mask=np.eye(3, dtype=bool))\n",
    "masked_array_3x3"
   ]
  },
  {
   "cell_type": "code",
   "execution_count": 88,
   "metadata": {},
   "outputs": [
    {
     "data": {
      "text/plain": [
       "np.float64(10.333333333333334)"
      ]
     },
     "execution_count": 88,
     "metadata": {},
     "output_type": "execute_result"
    }
   ],
   "source": [
    "mean_unmasked = masked_array_3x3.mean()\n",
    "mean_unmasked\n",
    "\n"
   ]
  },
  {
   "cell_type": "code",
   "execution_count": 89,
   "metadata": {},
   "outputs": [
    {
     "data": {
      "text/plain": [
       "array([[10,  4, 19],\n",
       "       [ 9, 10,  6],\n",
       "       [ 4, 20, 10]], dtype=int32)"
      ]
     },
     "execution_count": 89,
     "metadata": {},
     "output_type": "execute_result"
    }
   ],
   "source": [
    "masked_array_3x3 = masked_array_3x3.filled(mean_unmasked)\n",
    "masked_array_3x3"
   ]
  }
 ],
 "metadata": {
  "kernelspec": {
   "display_name": "bootcamp",
   "language": "python",
   "name": "python3"
  },
  "language_info": {
   "codemirror_mode": {
    "name": "ipython",
    "version": 3
   },
   "file_extension": ".py",
   "mimetype": "text/x-python",
   "name": "python",
   "nbconvert_exporter": "python",
   "pygments_lexer": "ipython3",
   "version": "3.13.1"
  }
 },
 "nbformat": 4,
 "nbformat_minor": 2
}
