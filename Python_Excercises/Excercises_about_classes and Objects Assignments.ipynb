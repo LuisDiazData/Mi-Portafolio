{
 "cells": [
  {
   "cell_type": "markdown",
   "metadata": {},
   "source": [
    "### Assignment 1: Basic Class and Object Creation\n",
    "\n",
    "Create a class named `Car` with attributes `make`, `model`, and `year`. Create an object of the class and print its attributes."
   ]
  },
  {
   "cell_type": "code",
   "execution_count": 1,
   "metadata": {},
   "outputs": [
    {
     "name": "stdout",
     "output_type": "stream",
     "text": [
      "Chevrolet\n",
      "Aveo\n",
      "2023\n"
     ]
    }
   ],
   "source": [
    "class car:\n",
    "    def __init__(self, make, model, year ):\n",
    "        self.make = make\n",
    "        self.model = model\n",
    "        self.year=year\n",
    "\n",
    "audi = car(\"Chevrolet\", \"Aveo\", 2023)\n",
    "print(audi.make)\n",
    "print(audi.model)\n",
    "print(audi.year)"
   ]
  },
  {
   "cell_type": "markdown",
   "metadata": {},
   "source": [
    "### Assignment 2: Methods in Class\n",
    "\n",
    "Add a method named `start_engine` to the `Car` class that prints a message when the engine starts. Create an object of the class and call the method."
   ]
  },
  {
   "cell_type": "code",
   "execution_count": 2,
   "metadata": {},
   "outputs": [
    {
     "name": "stdout",
     "output_type": "stream",
     "text": [
      "Chevrolet\n",
      "Aveo\n",
      "The car is on\n"
     ]
    }
   ],
   "source": [
    "class car:\n",
    "    def __init__(self, make, model, year ):\n",
    "        self.make = make\n",
    "        self.model = model\n",
    "        self.year=year\n",
    "    def start_engine(self):\n",
    "        print(\"The car is on\")\n",
    "\n",
    "audi = car(\"Chevrolet\", \"Aveo\", 2023)\n",
    "print(audi.make)\n",
    "print(audi.model)\n",
    "audi.start_engine()\n"
   ]
  },
  {
   "cell_type": "markdown",
   "metadata": {},
   "source": [
    "### Assignment 3: Class with Constructor\n",
    "\n",
    "Create a class named `Student` with attributes `name` and `age`. Use a constructor to initialize these attributes. Create an object of the class and print its attributes."
   ]
  },
  {
   "cell_type": "code",
   "execution_count": 3,
   "metadata": {},
   "outputs": [
    {
     "name": "stdout",
     "output_type": "stream",
     "text": [
      "Luis\n",
      "25\n"
     ]
    }
   ],
   "source": [
    "class Studen:\n",
    "    def __init__(self, name, age):\n",
    "        self.name = name\n",
    "        self.age = age\n",
    "\n",
    "Student1 = Studen(\"Luis\", 25)\n",
    "print(Student1.name)\n",
    "print(Student1.age)"
   ]
  },
  {
   "cell_type": "markdown",
   "metadata": {},
   "source": [
    "### Assignment 4: Class with Private Attributes\n",
    "\n",
    "Create a class named `BankAccount` with private attributes `account_number` and `balance`. Add methods to deposit and withdraw money, and to check the balance. Create an object of the class and perform some operations."
   ]
  },
  {
   "cell_type": "code",
   "execution_count": 8,
   "metadata": {},
   "outputs": [
    {
     "name": "stdout",
     "output_type": "stream",
     "text": [
      "1000\n",
      "Se deposito 1000 a tu cuenta, tu nuevo balance es 2000\n",
      "Se retiro 250 de tu cuenta, tu nuevo balance es 1750\n"
     ]
    }
   ],
   "source": [
    "class BankAccount:\n",
    "    def __init__(self, account_number, balance=0):\n",
    "        self.account_number = account_number\n",
    "        self.balance = balance\n",
    "    \n",
    "    def deposit_money (self, amount):\n",
    "        self.balance += amount\n",
    "        print(f'Se deposito {amount} a tu cuenta, tu nuevo balance es {self.balance}')\n",
    "    \n",
    "    def withdraw_money(self, amount):\n",
    "         self.balance -= amount\n",
    "         print(f'Se retiro {amount} de tu cuenta, tu nuevo balance es {self.balance}')\n",
    "\n",
    "account1 = BankAccount(124499, 1000)\n",
    "print(account1.balance)\n",
    "\n",
    "account1.deposit_money(1000)\n",
    "account1.withdraw_money(250)\n"
   ]
  },
  {
   "cell_type": "markdown",
   "metadata": {},
   "source": [
    "### Assignment 5: Class Inheritance\n",
    "\n",
    "Create a base class named `Person` with attributes `name` and `age`. Create a derived class named `Employee` that inherits from `Person` and adds an attribute `employee_id`. Create an object of the derived class and print its attributes."
   ]
  },
  {
   "cell_type": "code",
   "execution_count": 9,
   "metadata": {},
   "outputs": [
    {
     "name": "stdout",
     "output_type": "stream",
     "text": [
      "Luis\n",
      "Al01234\n"
     ]
    }
   ],
   "source": [
    "class Person:\n",
    "    def __init__(self, name, age):\n",
    "        self.name = name\n",
    "        self.age = age\n",
    "\n",
    "class Employe(Person):\n",
    "    def __init__(self, name, age, employe_id):\n",
    "        super().__init__(name,age)\n",
    "        self.employe_id=employe_id\n",
    "\n",
    "emp1 = Employe(\"Luis\", 32, \"Al01234\")\n",
    "print(emp1.name)\n",
    "print(emp1.employe_id)"
   ]
  },
  {
   "cell_type": "markdown",
   "metadata": {},
   "source": [
    "### Assignment 6: Method Overriding\n",
    "\n",
    "In the `Employee` class, override the `__str__` method to return a string representation of the object. Create an object of the class and print it."
   ]
  },
  {
   "cell_type": "code",
   "execution_count": 12,
   "metadata": {},
   "outputs": [
    {
     "name": "stdout",
     "output_type": "stream",
     "text": [
      "Persona: Luis, Edad: 30\n"
     ]
    }
   ],
   "source": [
    "class Employe(Person):\n",
    "    def __init__(self, name, age, employe_id):\n",
    "        super().__init__(name,age)\n",
    "        self.employe_id=employe_id\n",
    "    def __str__(self):\n",
    "        return f\"Persona: {self.name}, Edad: {self.age}\"\n",
    "    \n",
    "person1=Employe(\"Luis\", 30, \"A1232\")\n",
    "\n",
    "print(person1)\n",
    "    "
   ]
  },
  {
   "cell_type": "markdown",
   "metadata": {},
   "source": [
    "### Assignment 7: Class Composition\n",
    "\n",
    "Create a class named `Address` with attributes `street`, `city`, and `zipcode`. Create a class named `Person` that has an `Address` object as an attribute. Create an object of the `Person` class and print its address."
   ]
  },
  {
   "cell_type": "code",
   "execution_count": 15,
   "metadata": {},
   "outputs": [
    {
     "name": "stdout",
     "output_type": "stream",
     "text": [
      "Luis\n"
     ]
    }
   ],
   "source": [
    "class Adress:\n",
    "    def __init__(self, street, city, zipcode):\n",
    "        self.street = street\n",
    "        self.city=city\n",
    "        self.zipcode=zipcode\n",
    "\n",
    "class person(Adress):\n",
    "    def __init__(self, street, city, zipcode,name, age):\n",
    "        super().__init__(street, city, zipcode)\n",
    "        self.name = name\n",
    "        self.age = age\n",
    "\n",
    "persona1 = person(\"Minerva\", \"Mexico\", 4250, \"Luis\", 24)\n",
    "print(persona1.name)\n"
   ]
  },
  {
   "cell_type": "markdown",
   "metadata": {},
   "source": [
    "\n",
    "### Assignment 8: Class with Class Variables\n",
    "\n",
    "Create a class named `Counter` with a class variable `count`. Each time an object is created, increment the count. Add a method to get the current count. Create multiple objects and print the count."
   ]
  },
  {
   "cell_type": "code",
   "execution_count": 4,
   "metadata": {},
   "outputs": [
    {
     "name": "stdout",
     "output_type": "stream",
     "text": [
      "1\n",
      "2\n",
      "3\n"
     ]
    }
   ],
   "source": [
    "class counter:\n",
    "    contador = 0\n",
    "    @classmethod\n",
    "    def incrementar (cls):\n",
    "        cls.contador += 1\n",
    "        return cls.contador\n",
    "    \n",
    "print(counter.incrementar())\n",
    "print(counter.incrementar())\n",
    "print(counter.incrementar())\n"
   ]
  },
  {
   "cell_type": "markdown",
   "metadata": {},
   "source": [
    "### Assignment 9: Static Methods\n",
    "\n",
    "Create a class named `MathOperations` with a static method to calculate the square root of a number. Call the static method without creating an object."
   ]
  },
  {
   "cell_type": "code",
   "execution_count": 8,
   "metadata": {},
   "outputs": [
    {
     "name": "stdout",
     "output_type": "stream",
     "text": [
      "16\n"
     ]
    }
   ],
   "source": [
    "import math\n",
    "class squared:\n",
    "    @staticmethod\n",
    "    def cuadrado(numero):\n",
    "        return numero**2\n",
    "    \n",
    "print(squared.cuadrado(4))"
   ]
  },
  {
   "cell_type": "markdown",
   "metadata": {},
   "source": [
    "### Assignment 10: Class with Properties\n",
    "\n",
    "Create a class named `Rectangle` with private attributes `length` and `width`. Use properties to get and set these attributes. Create an object of the class and test the properties."
   ]
  },
  {
   "cell_type": "code",
   "execution_count": 13,
   "metadata": {},
   "outputs": [
    {
     "name": "stdout",
     "output_type": "stream",
     "text": [
      "(10, 20)\n",
      "(20, 30)\n"
     ]
    }
   ],
   "source": [
    "class Rectangle:\n",
    "    def __init__ (self, length, width):\n",
    "        self.__length = length\n",
    "        self.__width = width\n",
    "    def get_medidas (self):\n",
    "        return self.__length, self.__width\n",
    "    def set_new_medidas (self, new_length, new_width):\n",
    "        self.__length = new_length\n",
    "        self.__width = new_width\n",
    "        return self.__length, self.__width\n",
    "\n",
    "rectangulo1 = Rectangle(10,20)\n",
    "print(rectangulo1.get_medidas())\n",
    "print(rectangulo1.set_new_medidas(20,30))   "
   ]
  },
  {
   "cell_type": "markdown",
   "metadata": {},
   "source": [
    "### Assignment 12: Operator Overloading\n",
    "\n",
    "Create a class named `Vector` with attributes `x` and `y`. Overload the `+` operator to add two `Vector` objects. Create objects of the class and test the operator overloading.\n"
   ]
  },
  {
   "cell_type": "code",
   "execution_count": 14,
   "metadata": {},
   "outputs": [
    {
     "name": "stdout",
     "output_type": "stream",
     "text": [
      "Vector 1: (3, 4)\n",
      "Vector 2: (1, 2)\n",
      "Sum of Vectors: (4, 6)\n"
     ]
    }
   ],
   "source": [
    "class Vector:\n",
    "    def __init__(self, x, y):\n",
    "        self.x = x\n",
    "        self.y = y\n",
    "\n",
    "    def __add__(self, other):\n",
    "        if isinstance(other, Vector):\n",
    "            return Vector(self.x + other.x, self.y + other.y)\n",
    "        raise TypeError(\"Operands must be of type 'Vector'\")\n",
    "\n",
    "    def __str__(self):\n",
    "        return f\"({self.x}, {self.y})\"\n",
    "\n",
    "\n",
    "v1 = Vector(3, 4)\n",
    "v2 = Vector(1, 2)\n",
    "\n",
    "\n",
    "result = v1 + v2\n",
    "\n",
    "\n",
    "print(\"Vector 1:\", v1)\n",
    "print(\"Vector 2:\", v2)\n",
    "print(\"Sum of Vectors:\", result)\n"
   ]
  },
  {
   "cell_type": "code",
   "execution_count": 15,
   "metadata": {},
   "outputs": [
    {
     "name": "stdout",
     "output_type": "stream",
     "text": [
      "Vector 1: X: 1, Y: 2\n",
      "Vector 2: X: 3, Y: 3\n",
      "Sum of Vectors: X: 4, Y: 5\n"
     ]
    }
   ],
   "source": [
    "class Vector:\n",
    "    def __init__ (self,x,y):\n",
    "        self.x = x\n",
    "        self.y = y\n",
    "\n",
    "    def __add__ (self, Other):\n",
    "        return Vector(self.x + Other.x, self.y + Other.y )\n",
    "\n",
    "    def __str__ (self):\n",
    "        return f'X: {self.x}, Y: {self.y}'\n",
    "    \n",
    "v1 = Vector(1,2)\n",
    "v2 = Vector (3,3)\n",
    "\n",
    "result = v1+v2\n",
    "\n",
    "print(\"Vector 1:\", v1)\n",
    "print(\"Vector 2:\", v2)\n",
    "print(\"Sum of Vectors:\", result)"
   ]
  },
  {
   "cell_type": "markdown",
   "metadata": {},
   "source": [
    "### Assignment 13: Class with Custom Exception\n",
    "\n",
    "Create a custom exception named `InsufficientBalanceError`. In the `BankAccount` class, raise this exception when a withdrawal amount is greater than the balance. Handle the exception and print an appropriate message."
   ]
  },
  {
   "cell_type": "code",
   "execution_count": 23,
   "metadata": {},
   "outputs": [
    {
     "name": "stdout",
     "output_type": "stream",
     "text": [
      "Insufficient balance to complete the transaction\n"
     ]
    }
   ],
   "source": [
    "class InsufficientBalanceError(Exception):\n",
    "    \n",
    "    def __init__(self, message=\"Insufficient balance to complete the transaction\"):\n",
    "        self.message = message\n",
    "        super().__init__(self.message)\n",
    "\n",
    "class BankAccount:\n",
    "    def __init__(self, balance):\n",
    "        self.balance = balance\n",
    "    \n",
    "    def withdraw(self, amount):\n",
    "        if amount > self.balance:\n",
    "            raise InsufficientBalanceError()\n",
    "        self.balance -= amount\n",
    "        return self.balance\n",
    "\n",
    "try:\n",
    "    account = BankAccount(100)\n",
    "    account.withdraw(150)  # This will raise InsufficientBalanceError\n",
    "except InsufficientBalanceError as e:\n",
    "    print(e)\n"
   ]
  },
  {
   "cell_type": "markdown",
   "metadata": {},
   "source": [
    "### Assignment 14: Class with Context Manager\n",
    "\n",
    "Create a class named `FileManager` that implements the context manager protocol to open and close a file. Use this class to read the contents of a file.\n"
   ]
  },
  {
   "cell_type": "code",
   "execution_count": 27,
   "metadata": {},
   "outputs": [
    {
     "name": "stdout",
     "output_type": "stream",
     "text": [
      "[2025-02-21 22:55:42.820449]\n"
     ]
    }
   ],
   "source": [
    "class FileManager:\n",
    "    def __init__(self, filename, mode):\n",
    "        self.filename = filename\n",
    "        self.mode = mode\n",
    "        self.file = None\n",
    "\n",
    "    def __enter__(self):\n",
    "        self.file = open(self.filename, self.mode)\n",
    "        return self.file\n",
    "\n",
    "    def __exit__(self, exc_type, exc_value, traceback):\n",
    "        if self.file:\n",
    "            self.file.close()\n",
    "\n",
    "\n",
    "filename = r'temp\\log.txt'\n",
    "with FileManager(filename, \"r\") as file:\n",
    "    content = file.read()\n",
    "    print(content)\n",
    "    "
   ]
  }
 ],
 "metadata": {
  "kernelspec": {
   "display_name": "bootcamp",
   "language": "python",
   "name": "python3"
  },
  "language_info": {
   "codemirror_mode": {
    "name": "ipython",
    "version": 3
   },
   "file_extension": ".py",
   "mimetype": "text/x-python",
   "name": "python",
   "nbconvert_exporter": "python",
   "pygments_lexer": "ipython3",
   "version": "3.13.1"
  }
 },
 "nbformat": 4,
 "nbformat_minor": 2
}
