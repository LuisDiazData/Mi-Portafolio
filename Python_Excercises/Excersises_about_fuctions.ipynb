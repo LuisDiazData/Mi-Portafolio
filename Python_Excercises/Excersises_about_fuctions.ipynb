{
 "cells": [
  {
   "cell_type": "markdown",
   "metadata": {},
   "source": [
    "### Assignment 1: Fibonacci Sequence with Memoization\n",
    "\n",
    "Define a recursive function to calculate the nth Fibonacci number using memoization. Test the function with different inputs."
   ]
  },
  {
   "cell_type": "code",
   "execution_count": 5,
   "metadata": {},
   "outputs": [],
   "source": [
    "def fibbonaci (num):\n",
    "    if num == 0:\n",
    "        return 0\n",
    "    elif num == 1:\n",
    "        return 1\n",
    "    else: \n",
    "        return fibbonaci(num - 1) + fibbonaci(num - 2)"
   ]
  },
  {
   "cell_type": "markdown",
   "metadata": {},
   "source": [
    "### Assignment 2: Function with Nested Default Arguments\n",
    "\n",
    "Define a function that takes two arguments, a and b, where b is a dictionary with a default value of an empty dictionary. The function should add a new key-value pair to the dictionary and return it. Test the function with different inputs."
   ]
  },
  {
   "cell_type": "code",
   "execution_count": 6,
   "metadata": {},
   "outputs": [
    {
     "name": "stdout",
     "output_type": "stream",
     "text": [
      "{'a': 1, 'b': 2, 'c': 3}\n"
     ]
    }
   ],
   "source": [
    "def add_in_dict (dict={}, **kwargs):\n",
    "    for key, value in kwargs.items():\n",
    "        dict[key] = value\n",
    "    return dict\n",
    "\n",
    "dict_new = add_in_dict(a=1, b=2, c=3)\n",
    "print(dict_new)\n"
   ]
  },
  {
   "cell_type": "markdown",
   "metadata": {},
   "source": [
    "\n",
    "### Assignment 3: Function with Variable Keyword Arguments\n",
    "\n",
    "Define a function that takes a variable number of keyword arguments and returns a dictionary containing only those key-value pairs where the value is an integer. Test the function with different inputs.\n"
   ]
  },
  {
   "cell_type": "code",
   "execution_count": 14,
   "metadata": {},
   "outputs": [
    {
     "data": {
      "text/plain": [
       "{1: 1,\n",
       " 2: 2,\n",
       " 3: 3,\n",
       " 4: 4,\n",
       " 5: 5,\n",
       " 6: 6,\n",
       " 7: 7,\n",
       " 8: 8,\n",
       " 9: 9,\n",
       " 20: 20,\n",
       " 30: 30,\n",
       " 40: 40,\n",
       " 50: 50,\n",
       " 60: 60,\n",
       " 70: 70,\n",
       " 80: 80,\n",
       " 90: 90,\n",
       " 100: 100}"
      ]
     },
     "execution_count": 14,
     "metadata": {},
     "output_type": "execute_result"
    }
   ],
   "source": [
    "dict_new = {}\n",
    "def is_int (*args):\n",
    "    for value in args:\n",
    "        if not isinstance(value, int):\n",
    "            continue\n",
    "        else:\n",
    "            dict_new[value] = value\n",
    "    return dict_new\n",
    "        \n",
    "is_int(1,1.3,2,3,3.5,4,4.5,5,6,7,8,9,20,30,40,50,60,70,80,90,100)   "
   ]
  },
  {
   "cell_type": "markdown",
   "metadata": {},
   "source": [
    "### Assignment 4: Function with Callback\n",
    "\n",
    "Define a function that takes another function as a callback and a list of integers. The function should apply the callback to each integer in the list and return a new list with the results. Test with different callback functions."
   ]
  },
  {
   "cell_type": "code",
   "execution_count": 17,
   "metadata": {},
   "outputs": [
    {
     "name": "stdout",
     "output_type": "stream",
     "text": [
      "11\n",
      "12\n",
      "13\n",
      "14\n",
      "15\n",
      "16\n",
      "17\n",
      "18\n",
      "19\n",
      "20\n"
     ]
    }
   ],
   "source": [
    "def calculo_num (*args, callback):\n",
    "    for value in args:\n",
    "        print(callback(value))\n",
    "        \n",
    "def suma(a):\n",
    "    return a+10\n",
    "\n",
    "calculo_num(1,2,3,4,5,6,7,8,9,10, callback=suma)"
   ]
  },
  {
   "cell_type": "markdown",
   "metadata": {},
   "source": [
    "### Assignment 5: Function that Returns a Function\n",
    "\n",
    "Define a function that returns another function. The returned function should take an integer and return its square. Test the returned function with different inputs."
   ]
  },
  {
   "cell_type": "code",
   "execution_count": 20,
   "metadata": {},
   "outputs": [
    {
     "name": "stdout",
     "output_type": "stream",
     "text": [
      "4\n"
     ]
    }
   ],
   "source": [
    "def fuction_return_fuction(num):\n",
    "    return square(num)\n",
    "\n",
    "def square(num):\n",
    "    return num*num\n",
    "\n",
    "print(fuction_return_fuction(2))"
   ]
  },
  {
   "cell_type": "markdown",
   "metadata": {},
   "source": [
    "\n",
    "### Assignment 6: Function with Decorators\n",
    "\n",
    "Define a function that calculates the time taken to execute another function. Apply this decorator to a function that performs a complex calculation. Test the decorated function with different inputs."
   ]
  },
  {
   "cell_type": "code",
   "execution_count": null,
   "metadata": {},
   "outputs": [
    {
     "name": "stdout",
     "output_type": "stream",
     "text": [
      "Hora actual: 23:18:29\n"
     ]
    }
   ],
   "source": [
    "from datetime import datetime\n",
    "\n",
    "\n",
    "hora_actual = datetime.now().strftime(\"%H:%M:%S\")\n",
    "\n",
    "print(f\"Hora actual: {hora_actual}\")"
   ]
  },
  {
   "cell_type": "code",
   "execution_count": 29,
   "metadata": {},
   "outputs": [
    {
     "name": "stdout",
     "output_type": "stream",
     "text": [
      "Hora actual: 23:22:27\n",
      "2097152000000000000000000012\n",
      "2097152000000000000000000014\n",
      "2097152000000000000000000016\n",
      "2097152000000000000000000018\n",
      "2097152000000000000000000020\n",
      "2097152000000000000000000022\n",
      "2097152000000000000000000024\n",
      "2097152000000000000000000026\n",
      "2097152000000000000000000028\n",
      "2097152000000000000000000030\n",
      "Hora actual: 23:22:27\n"
     ]
    }
   ],
   "source": [
    "def decorator(func):\n",
    "    def wrapper(*args):\n",
    "        hora_actual = datetime.now().strftime(\"%H:%M:%S\")\n",
    "        print(f\"Hora actual: {hora_actual}\")\n",
    "        func(*args)\n",
    "        hora_actual = datetime.now().strftime(\"%H:%M:%S\")\n",
    "        print(f\"Hora actual: {hora_actual}\")\n",
    "    return wrapper\n",
    "\n",
    "@decorator\n",
    "def multiply(*args):\n",
    "    for value in args:\n",
    "        print(value*2+10+20**21)\n",
    "\n",
    "multiply(1,2,3,4,5,6,7,8,9,10)\n"
   ]
  },
  {
   "cell_type": "markdown",
   "metadata": {},
   "source": [
    "### Assignment 7: Higher-Order Function for Filtering and Mapping\n",
    "\n",
    "Define a higher-order function that takes two functions, a filter function and a map function, along with a list of integers. The higher-order function should first filter the integers using the filter function and then apply the map function to the filtered integers. Test with different filter and map functions.\n"
   ]
  },
  {
   "cell_type": "code",
   "execution_count": 32,
   "metadata": {},
   "outputs": [
    {
     "name": "stdout",
     "output_type": "stream",
     "text": [
      "([2, 4, 6, 8, 10], [1, 4, 9, 16, 25, 36, 49, 64, 81, 100])\n"
     ]
    }
   ],
   "source": [
    "def higher_orderint (integers, fuction1, fuction2):\n",
    "    return fuction1(integers) , fuction2(integers)\n",
    "\n",
    "def fuction1(integers):\n",
    "    return list(filter(lambda x: x%2 == 0, integers))\n",
    "\n",
    "def fuction2(integers):\n",
    "    return list(map(lambda x: x**2, integers))\n",
    "\n",
    "print(higher_orderint([1,2,3,4,5,6,7,8,9,10], fuction1, fuction2))"
   ]
  },
  {
   "cell_type": "markdown",
   "metadata": {},
   "source": [
    "### Assignment 8: Function Composition\n",
    "\n",
    "Define a function that composes two functions, f and g, such that the result is f(g(x)). Test with different functions f and g."
   ]
  },
  {
   "cell_type": "code",
   "execution_count": 33,
   "metadata": {},
   "outputs": [
    {
     "name": "stdout",
     "output_type": "stream",
     "text": [
      "[4, 16, 36, 64, 100, 144, 196, 256, 324, 400]\n"
     ]
    }
   ],
   "source": [
    "def funcion_two_fuctions (integers, fuction1, fuction2):\n",
    "    return fuction1(fuction2(integers))\n",
    "\n",
    "def fuction1(integers):\n",
    "    return list(map (lambda x: x**2, integers))\n",
    "\n",
    "def fuction2(integers):\n",
    "    return list(map (lambda x: x*2, integers))\n",
    "\n",
    "print(funcion_two_fuctions([1,2,3,4,5,6,7,8,9,10], fuction1, fuction2))"
   ]
  },
  {
   "cell_type": "markdown",
   "metadata": {},
   "source": [
    "### Assignment 9: Partial Function Application\n",
    "\n",
    "Use the functools.partial function to create a new function that multiplies its input by 2. Test the new function with different inputs."
   ]
  },
  {
   "cell_type": "code",
   "execution_count": 34,
   "metadata": {},
   "outputs": [
    {
     "name": "stdout",
     "output_type": "stream",
     "text": [
      "[2, 4, 6, 8, 10, 12, 14, 16, 18, 20]\n",
      "[3, 6, 9, 12, 15, 18, 21, 24, 27, 30]\n"
     ]
    }
   ],
   "source": [
    "from functools import partial\n",
    "\n",
    "def fuction1 (integers, multiply):\n",
    "    return list(map(lambda x:x*multiply, integers))\n",
    "\n",
    "por_dos = partial(fuction1, multiply=2)\n",
    "por_tres = partial(fuction1, multiply=3)\n",
    "\n",
    "print(por_dos([1,2,3,4,5,6,7,8,9,10]))\n",
    "print(por_tres([1,2,3,4,5,6,7,8,9,10]))"
   ]
  },
  {
   "cell_type": "markdown",
   "metadata": {},
   "source": [
    "### Assignment 10: Function with Error Handling\n",
    "\n",
    "Define a function that takes a list of integers and returns their average. The function should handle any errors that occur (e.g., empty list) and return None in such cases. Test with different inputs."
   ]
  },
  {
   "cell_type": "code",
   "execution_count": 36,
   "metadata": {},
   "outputs": [
    {
     "name": "stdout",
     "output_type": "stream",
     "text": [
      "5.5\n"
     ]
    }
   ],
   "source": [
    "def fuction1 (integers):\n",
    "    try:\n",
    "        sum1 = sum(integers)\n",
    "        return sum1 / len(integers)\n",
    "    except ZeroDivisionError:\n",
    "        return \"La lista esta vacia\"\n",
    "    except TypeError as e:\n",
    "        return f\"Error: {e}\"\n",
    "    except Exception as e:\n",
    "        return f\"Error: {e}\"\n",
    "    \n",
    "print(fuction1([1,2,3,4,5,6,7,8,9,10]))"
   ]
  },
  {
   "cell_type": "markdown",
   "metadata": {},
   "source": [
    "### Assignment 11: Function with Generators\n",
    "\n",
    "Define a function that generates an infinite sequence of Fibonacci numbers. Test by printing the first 10 numbers in the sequence.\n"
   ]
  },
  {
   "cell_type": "code",
   "execution_count": 37,
   "metadata": {},
   "outputs": [
    {
     "name": "stdout",
     "output_type": "stream",
     "text": [
      "0\n",
      "1\n",
      "1\n",
      "2\n",
      "3\n",
      "5\n",
      "8\n",
      "13\n",
      "21\n",
      "34\n"
     ]
    }
   ],
   "source": [
    "def fibbonaci (printing):\n",
    "    if printing == 0:\n",
    "        return 0\n",
    "    elif printing == 1:\n",
    "        return 1\n",
    "    else:\n",
    "        return fibbonaci(printing - 1) + fibbonaci(printing - 2)\n",
    "\n",
    "def wrapper_fibbonaci (printing):\n",
    "    for value in range(printing):\n",
    "        print(fibbonaci(value))\n",
    "\n",
    "wrapper_fibbonaci(10)"
   ]
  },
  {
   "cell_type": "markdown",
   "metadata": {},
   "source": [
    "### Assignment 12: Currying\n",
    "\n",
    "Define a curried function that takes three arguments, one at a time, and returns their product. Test the function by providing arguments one at a time."
   ]
  },
  {
   "cell_type": "code",
   "execution_count": 41,
   "metadata": {},
   "outputs": [
    {
     "name": "stdout",
     "output_type": "stream",
     "text": [
      "60\n"
     ]
    }
   ],
   "source": [
    "def first(x):\n",
    "    def second(y):\n",
    "        def third(z):\n",
    "            return x + y + z\n",
    "        return third\n",
    "    return second\n",
    "\n",
    "print(first(10)(20)(30))"
   ]
  },
  {
   "cell_type": "markdown",
   "metadata": {},
   "source": [
    "### Assignment 13: Function with Context Manager\n",
    "\n",
    "Define a function that uses a context manager to write a list of integers to a file. The function should handle any errors that occur during file operations. Test with different lists."
   ]
  },
  {
   "cell_type": "code",
   "execution_count": 43,
   "metadata": {},
   "outputs": [],
   "source": [
    "def write_on_file (text, file):\n",
    "    try:\n",
    "        with open(file, \"w\") as a:\n",
    "            for num in text:\n",
    "                a.write(f\"{num}\\n\")\n",
    "    except OSError as e:\n",
    "        print(f\"Error: {e}\")\n",
    "\n",
    "write_on_file([1, 2, 3, 4, 5], 'output.txt')"
   ]
  },
  {
   "cell_type": "markdown",
   "metadata": {},
   "source": [
    "### Assignment 14: Function with Multiple Return Types\n",
    "\n",
    "Define a function that takes a list of mixed data types (integers, strings, and floats) and returns three lists: one containing all the integers, one containing all the strings, and one containing all the floats. Test with different inputs."
   ]
  },
  {
   "cell_type": "code",
   "execution_count": 47,
   "metadata": {},
   "outputs": [
    {
     "name": "stdout",
     "output_type": "stream",
     "text": [
      "(['a', 'b', 'c'], [1, 3], [2.5, 4.0])\n"
     ]
    }
   ],
   "source": [
    "def separte_type_data (list):\n",
    "    liststrings = []\n",
    "    listintegers = []\n",
    "    listfloats = []\n",
    "    for value in list:\n",
    "        if isinstance(value,str):\n",
    "            liststrings.append(value)\n",
    "        elif isinstance(value,int):\n",
    "            listintegers.append(value)\n",
    "        elif isinstance(value, float):\n",
    "            listfloats.append(value)\n",
    "    return liststrings, listintegers, listfloats\n",
    "\n",
    "print(separte_type_data([1, 'a', 2.5, 3, 'b', 4.0, 'c']))"
   ]
  },
  {
   "cell_type": "markdown",
   "metadata": {},
   "source": [
    "### Assignment 15: Function with State\n",
    "\n",
    "Define a function that maintains state between calls using a mutable default argument. The function should keep track of how many times it has been called. Test by calling the function multiple times."
   ]
  },
  {
   "cell_type": "code",
   "execution_count": 53,
   "metadata": {},
   "outputs": [
    {
     "name": "stdout",
     "output_type": "stream",
     "text": [
      "[1, 2, 3, 4, 5, 6, 7, 8, 9, 10, 11]\n",
      "[1, 2, 3, 4, 5, 6, 7, 8, 9, 10, 11, 12]\n",
      "[1, 2, 3, 4, 5, 6, 7, 8, 9, 10, 11, 12, 13]\n",
      "[1, 2, 3, 4, 5, 6, 7, 8, 9, 10, 11, 12, 13, 14]\n",
      "[1, 2, 3, 4, 5, 6, 7, 8, 9, 10, 11, 12, 13, 14, 15]\n",
      "[1, 2, 3, 4, 5, 6, 7, 8, 9, 10, 11, 12, 13, 14, 15, 16]\n",
      "[1, 2, 3, 4, 5, 6, 7, 8, 9, 10, 11, 12, 13, 14, 15, 16, 17]\n",
      "[1, 2, 3, 4, 5, 6, 7, 8, 9, 10, 11, 12, 13, 14, 15, 16, 17, 18]\n"
     ]
    },
    {
     "data": {
      "text/plain": [
       "[1, 2, 3, 4, 5, 6, 7, 8, 9, 10, 11, 12, 13, 14, 15, 16, 17, 18]"
      ]
     },
     "execution_count": 53,
     "metadata": {},
     "output_type": "execute_result"
    }
   ],
   "source": [
    "def fuction_inmutable (list=[1,2,3,4,5,6,7,8,9,10]):\n",
    "    list.append(list[-1]+1)\n",
    "    print(list)\n",
    "    return list\n",
    "\n",
    "fuction_inmutable()\n",
    "fuction_inmutable()\n",
    "fuction_inmutable()\n",
    "fuction_inmutable()\n",
    "fuction_inmutable()\n",
    "fuction_inmutable()\n",
    "fuction_inmutable()\n",
    "fuction_inmutable()"
   ]
  }
 ],
 "metadata": {
  "kernelspec": {
   "display_name": "bootcamp",
   "language": "python",
   "name": "python3"
  },
  "language_info": {
   "codemirror_mode": {
    "name": "ipython",
    "version": 3
   },
   "file_extension": ".py",
   "mimetype": "text/x-python",
   "name": "python",
   "nbconvert_exporter": "python",
   "pygments_lexer": "ipython3",
   "version": "3.13.1"
  }
 },
 "nbformat": 4,
 "nbformat_minor": 2
}
